{
 "cells": [
  {
   "cell_type": "code",
   "execution_count": 68,
   "metadata": {},
   "outputs": [
    {
     "name": "stdout",
     "output_type": "stream",
     "text": [
      "101, 102, 103, 104, 105, \n",
      "\n",
      "for .....\n",
      "101\n",
      "102\n",
      "103\n",
      "\n",
      "while ....\n",
      "201\n",
      "202\n",
      "203\n",
      "<generator object <genexpr> at 0x00000255D0BA99C8>\n"
     ]
    },
    {
     "data": {
      "text/plain": [
       "generator"
      ]
     },
     "execution_count": 68,
     "metadata": {},
     "output_type": "execute_result"
    },
    {
     "data": {
      "text/plain": [
       "<generator object <genexpr> at 0x00000255D0BA99C8>"
      ]
     },
     "execution_count": 68,
     "metadata": {},
     "output_type": "execute_result"
    },
    {
     "name": "stdout",
     "output_type": "stream",
     "text": [
      "0\n",
      "2\n",
      "4\n",
      "6\n",
      "8\n"
     ]
    }
   ],
   "source": [
    "class Counter(object):\n",
    "    def __init__(self, start, stop):\n",
    "        self.current = start\n",
    "        self.stop = stop\n",
    "    def __iter__(self):\n",
    "        return self\n",
    "    def __next__(self):\n",
    "        if self.current > self.stop:\n",
    "            raise StopIteration\n",
    "        else:\n",
    "            c = self.current\n",
    "            self.current += 1\n",
    "        return c\n",
    "\n",
    "for c in Counter(101, 105):\n",
    "    print(c, end=', ')\n",
    "print()\n",
    "print()\n",
    "print('for .....')\n",
    "for c in Counter(101, 103):\n",
    "    print(c, sep=', ')\n",
    "\n",
    "print()\n",
    "print('while ....')\n",
    "\n",
    "c = Counter(201, 203)\n",
    "while True:\n",
    "    try:\n",
    "        print(next(c), sep=', ')\n",
    "    except StopIteration:\n",
    "        break\n",
    "        \n",
    "even = (e for e in range(10) if not e % 2)\n",
    "# odd = (o for o in range(10) if o % 2)\n",
    "print(even)\n",
    "type(even)\n",
    "even\n",
    "for e in even:\n",
    "    print(e)"
   ]
  },
  {
   "cell_type": "code",
   "execution_count": null,
   "metadata": {},
   "outputs": [],
   "source": []
  },
  {
   "cell_type": "code",
   "execution_count": null,
   "metadata": {},
   "outputs": [],
   "source": []
  }
 ],
 "metadata": {
  "kernelspec": {
   "display_name": "Python 3",
   "language": "python",
   "name": "python3"
  },
  "language_info": {
   "codemirror_mode": {
    "name": "ipython",
    "version": 3
   },
   "file_extension": ".py",
   "mimetype": "text/x-python",
   "name": "python",
   "nbconvert_exporter": "python",
   "pygments_lexer": "ipython3",
   "version": "3.7.4"
  }
 },
 "nbformat": 4,
 "nbformat_minor": 2
}
