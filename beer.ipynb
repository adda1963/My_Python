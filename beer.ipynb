{
 "cells": [
  {
   "cell_type": "code",
   "execution_count": 2,
   "metadata": {},
   "outputs": [
    {
     "name": "stdout",
     "output_type": "stream",
     "text": [
      "12 bottles of beer on the wall,\n",
      "12 bottles of beer.\n",
      "Take one down, pass it around,\n",
      "11 bottles of beer on the wall.\n",
      "11 bottles of beer on the wall,\n",
      "11 bottles of beer.\n",
      "Take one down, pass it around,\n",
      "10 bottles of beer on the wall.\n",
      "10 bottles of beer on the wall,\n",
      "10 bottles of beer.\n",
      "Take one down, pass it around,\n",
      "9 bottles of beer on the wall.\n",
      "9 bottles of beer on the wall,\n",
      "9 bottles of beer.\n",
      "Take one down, pass it around,\n",
      "8 bottles of beer on the wall.\n",
      "8 bottles of beer on the wall,\n",
      "8 bottles of beer.\n",
      "Take one down, pass it around,\n",
      "7 bottles of beer on the wall.\n",
      "7 bottles of beer on the wall,\n",
      "7 bottles of beer.\n",
      "Take one down, pass it around,\n",
      "6 bottles of beer on the wall.\n",
      "6 bottles of beer on the wall,\n",
      "6 bottles of beer.\n",
      "Take one down, pass it around,\n",
      "5 bottles of beer on the wall.\n",
      "5 bottles of beer on the wall,\n",
      "5 bottles of beer.\n",
      "Take one down, pass it around,\n",
      "4 bottles of beer on the wall.\n",
      "4 bottles of beer on the wall,\n",
      "4 bottles of beer.\n",
      "Take one down, pass it around,\n",
      "3 bottles of beer on the wall.\n",
      "3 bottles of beer on the wall,\n",
      "3 bottles of beer.\n",
      "Take one down, pass it around,\n",
      "2 bottles of beer on the wall.\n",
      "2 bottles of beer on the wall,\n",
      "2 bottles of beer.\n",
      "Take one down, pass it around,\n",
      "one bottle of beer on the wall.\n",
      "one bottle of beer on the wall,\n",
      "one bottle of beer.\n",
      "Take one down, pass it around,\n",
      "no more bottles of beer on the wall.\n"
     ]
    }
   ],
   "source": [
    "#!/usr/bin/env python3\n",
    "\n",
    "\"\"\"\n",
    "A Python version of the classic \"bottles of beer on the wall\" programming\n",
    "example.\n",
    "By Guido van Rossum, demystified after a version by Fredrik Lundh.\n",
    "\"\"\"\n",
    "\n",
    "import sys\n",
    "# sys.argv[1:]\n",
    "n = 12\n",
    "#if sys.argv[1:]:\n",
    "#    n = int(sys.argv[1])\n",
    "\n",
    "def bottle(n):\n",
    "    if n == 0: return \"no more bottles of beer\"\n",
    "    if n == 1: return \"one bottle of beer\"\n",
    "    return str(n) + \" bottles of beer\"\n",
    "\n",
    "for i in range(n, 0, -1):\n",
    "    print(bottle(i), \"on the wall,\")\n",
    "    print(bottle(i) + \".\")\n",
    "    print(\"Take one down, pass it around,\")\n",
    "    print(bottle(i-1), \"on the wall.\")"
   ]
  },
  {
   "cell_type": "code",
   "execution_count": null,
   "metadata": {},
   "outputs": [],
   "source": []
  },
  {
   "cell_type": "code",
   "execution_count": null,
   "metadata": {},
   "outputs": [],
   "source": []
  }
 ],
 "metadata": {
  "kernelspec": {
   "display_name": "Python 3",
   "language": "python",
   "name": "python3"
  },
  "language_info": {
   "codemirror_mode": {
    "name": "ipython",
    "version": 3
   },
   "file_extension": ".py",
   "mimetype": "text/x-python",
   "name": "python",
   "nbconvert_exporter": "python",
   "pygments_lexer": "ipython3",
   "version": "3.7.4"
  }
 },
 "nbformat": 4,
 "nbformat_minor": 2
}
